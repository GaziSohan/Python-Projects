{
 "cells": [
  {
   "cell_type": "code",
   "execution_count": null,
   "id": "f0cfd218",
   "metadata": {},
   "outputs": [],
   "source": [
    "## Function to read a file and count the frequency of each word\n",
    "\n",
    "def count_word_freq(file_path):\n",
    "    word_count={}\n",
    "    with open(file_path,'r') as file:\n",
    "        for line in file:\n",
    "            words = line.split()\n",
    "            for word in words:\n",
    "                word = word.lower().strip('.,!?;:\"\\'')\n",
    "                word_count[word]=word_count.get(word,0)+1\n",
    "\n",
    "    return word_count\n",
    "filepath = 'sample.txt'\n",
    "word_freq = count_word_freq(filepath)\n",
    "print(word_freq)"
   ]
  }
 ],
 "metadata": {
  "language_info": {
   "name": "python"
  }
 },
 "nbformat": 4,
 "nbformat_minor": 5
}
