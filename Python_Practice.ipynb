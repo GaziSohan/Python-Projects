{
 "cells": [
  {
   "cell_type": "code",
   "execution_count": 9,
   "id": "adb975e7-0f35-4e13-ac70-19ab20648fea",
   "metadata": {
    "tags": []
   },
   "outputs": [
    {
     "name": "stdout",
     "output_type": "stream",
     "text": [
      "30 10\n"
     ]
    }
   ],
   "source": [
    "# Topic : Python basic variables\n",
    "#answer-1:\n",
    "(x,y) = (10,30) #declating variables\n",
    "(x,y) = (y,x) # flipping the value inside variables\n",
    "print(x,y) #printng the output"
   ]
  },
  {
   "cell_type": "code",
   "execution_count": 10,
   "id": "be7e254d-6318-47c0-a87b-763317485435",
   "metadata": {},
   "outputs": [
    {
     "name": "stdin",
     "output_type": "stream",
     "text": [
      " 10\n",
      " 20\n"
     ]
    },
    {
     "name": "stdout",
     "output_type": "stream",
     "text": [
      "200\n"
     ]
    }
   ],
   "source": [
    "# Topic : Python basic variables\n",
    "# answer-2:\n",
    "length = int(input()) # input length\n",
    "width = int(input()) # input area\n",
    "area = length * width # calculating area by using mathematical formula\n",
    "print(area) # printing the result"
   ]
  },
  {
   "cell_type": "code",
   "execution_count": 8,
   "id": "c730cce4-e1d7-4a1c-9fc9-7033a53e605e",
   "metadata": {},
   "outputs": [
    {
     "name": "stdin",
     "output_type": "stream",
     "text": [
      " 0\n"
     ]
    },
    {
     "name": "stdout",
     "output_type": "stream",
     "text": [
      "32.0\n"
     ]
    }
   ],
   "source": [
    "# Topic : Python basic variables\n",
    "# answer-3:\n",
    "cels = float(input()) # taking celsius temp as input\n",
    "farh = (cels*9/5) + 32 # using formula to convert celsius into fahrenheit\n",
    "print(farh) # printing the result"
   ]
  },
  {
   "cell_type": "code",
   "execution_count": 2,
   "id": "af97f656-b08e-40ea-a2ba-858e6a451ffa",
   "metadata": {},
   "outputs": [
    {
     "name": "stdin",
     "output_type": "stream",
     "text": [
      " India\n"
     ]
    },
    {
     "name": "stdout",
     "output_type": "stream",
     "text": [
      "5\n"
     ]
    }
   ],
   "source": [
    "# Topic : String based questions\n",
    "#answer-1:\n",
    "string = str(input()) # Get input from the user\n",
    "length = len(string) # Calculate the length of the input string using the len() function\n",
    "print(length) # Print the length of the string"
   ]
  },
  {
   "cell_type": "code",
   "execution_count": 8,
   "id": "8e385fb4-b0d4-44aa-86f1-9ef2d0626a55",
   "metadata": {},
   "outputs": [
    {
     "name": "stdin",
     "output_type": "stream",
     "text": [
      "Enter a sentence: vowels and consonent\n"
     ]
    },
    {
     "name": "stdout",
     "output_type": "stream",
     "text": [
      "Number of Vowels: 6\n"
     ]
    }
   ],
   "source": [
    "# Topic : String based questions\n",
    "#answer-2:\n",
    "sentence = input(\"Enter a sentence:\") # Initialize a variable to count the vowels\n",
    "count_vowel = 0 # Initialize a variable to count the vowels\n",
    "for char in sentence: # Iterate through each character in the sentence\n",
    "    new_char = char.lower() # Convert the character to lowercase to handle both uppercase and lowercase vowels\n",
    "    if new_char in \"aeiou\": # Check if the character is a vowel (a, e, i, o, u)\n",
    "        count_vowel = count_vowel + 1 # Count the total number of vowels present in the sentence\n",
    "print(\"Number of Vowels:\",count_vowel) # Step 7: Display the result"
   ]
  },
  {
   "cell_type": "code",
   "execution_count": 1,
   "id": "6f29a246-09f3-45a2-88c0-b1941d629f4a",
   "metadata": {},
   "outputs": [
    {
     "name": "stdin",
     "output_type": "stream",
     "text": [
      " PW Skills is a great platform\n"
     ]
    },
    {
     "name": "stdout",
     "output_type": "stream",
     "text": [
      "mroftalp taerg a si sllikS WP\n"
     ]
    }
   ],
   "source": [
    "# Topic : String based questions\n",
    "#answer-3:\n",
    "string = input() # Get the input string from the user\n",
    "rev_string = string[::-1] # Use string slicing to reverse the string, start from the end of the string, move backward with step -1, and stop at the beginning.\n",
    "print(rev_string) # Print the reversed string"
   ]
  },
  {
   "cell_type": "code",
   "execution_count": 10,
   "id": "19327d96-4f66-4b9e-b216-9d0abd272f80",
   "metadata": {},
   "outputs": [
    {
     "name": "stdin",
     "output_type": "stream",
     "text": [
      " oddo\n"
     ]
    },
    {
     "name": "stdout",
     "output_type": "stream",
     "text": [
      "The input string is a palindrome.\n"
     ]
    }
   ],
   "source": [
    "# Topic : String based questions\n",
    "#answer-4:\n",
    "string = input() # Get input from the user\n",
    "new_string = string.replace(\" \",\"\").lower() # Remove spaces and convert the input string to lowercase\n",
    "reverse_string = new_string[::-1] # Reverse the cleaned string using slicing\n",
    "if new_string == reverse_string: # Compare the cleaned string with its reverse to check for palindrome\n",
    "    print(\"The input string is a palindrome.\")\n",
    "else: \n",
    "    print(\"The input string is not a palindrome.\")"
   ]
  },
  {
   "cell_type": "code",
   "execution_count": 2,
   "id": "19bafa3e-fcc3-48ee-b2d0-300bcc754cad",
   "metadata": {},
   "outputs": [
    {
     "name": "stdin",
     "output_type": "stream",
     "text": [
      " my name is gazi\n"
     ]
    },
    {
     "name": "stdout",
     "output_type": "stream",
     "text": [
      "mynameisgazi\n"
     ]
    }
   ],
   "source": [
    "# Topic : String based questions\n",
    "#answer-5:\n",
    "string = str(input()) # Take input from the user\n",
    "new_string = string.replace(\" \",\"\") # Replace the spaces with no-spaces\n",
    "print(new_string) # print the newly modified string"
   ]
  }
 ],
 "metadata": {
  "kernelspec": {
   "display_name": "Python 3 (ipykernel)",
   "language": "python",
   "name": "python3"
  },
  "language_info": {
   "codemirror_mode": {
    "name": "ipython",
    "version": 3
   },
   "file_extension": ".py",
   "mimetype": "text/x-python",
   "name": "python",
   "nbconvert_exporter": "python",
   "pygments_lexer": "ipython3",
   "version": "3.10.8"
  }
 },
 "nbformat": 4,
 "nbformat_minor": 5
}
